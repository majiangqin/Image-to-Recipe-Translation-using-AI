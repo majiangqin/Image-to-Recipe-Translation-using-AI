{
 "cells": [
  {
   "cell_type": "markdown",
   "metadata": {},
   "source": [
    "## Imports and setup"
   ]
  },
  {
   "cell_type": "code",
   "execution_count": 40,
   "metadata": {},
   "outputs": [
    {
     "name": "stdout",
     "output_type": "stream",
     "text": [
      "The autoreload extension is already loaded. To reload it, use:\n",
      "  %reload_ext autoreload\n"
     ]
    }
   ],
   "source": [
    "import os\n",
    "import json\n",
    "from collections import defaultdict\n",
    "import pprint\n",
    "\n",
    "import matplotlib.pyplot as plt\n",
    "import numpy as np\n",
    "\n",
    "import seaborn as sns\n",
    "sns.set_theme()\n",
    "\n",
    "%load_ext autoreload\n",
    "%autoreload 2"
   ]
  },
  {
   "cell_type": "code",
   "execution_count": 41,
   "metadata": {},
   "outputs": [],
   "source": [
    "#load data into a runs dict and calculate best run\n",
    "def load_runs(runs_dir):\n",
    "    runs = []\n",
    "    best_run = None\n",
    "    for run_id in os.listdir(runs_dir):\n",
    "        run_dir = os.path.join(runs_dir, run_id)\n",
    "        try:\n",
    "            run = {\"id\": run_id}\n",
    "            with open(os.path.join(run_dir, \"history.json\"), \"r\") as f:\n",
    "                run[\"history\"] = json.loads(f.read())\n",
    "            with open(os.path.join(run_dir, \"params.json\"), \"r\") as f:\n",
    "                run[\"params\"] = json.loads(f.read())\n",
    "\n",
    "            run[\"last_val_iou\"] = run[\"history\"][\"val_iou\"][-1]\n",
    "\n",
    "            runs.append(run)\n",
    "            #determine best run\n",
    "            if best_run is None or run[\"last_val_iou\"] > best_run[\"last_val_iou\"]:\n",
    "#                 print(\"new best run\", run[\"id\"])\n",
    "                best_run = run\n",
    "\n",
    "        except:\n",
    "            print(\"error loading a run... maybe it's still in progress?\")\n",
    "            \n",
    "    return runs, best_run"
   ]
  },
  {
   "cell_type": "code",
   "execution_count": 42,
   "metadata": {},
   "outputs": [],
   "source": [
    "def aggregate_iou_by_param_val(runs, reducer=np.mean):\n",
    "    ious_by_param_value = defaultdict(lambda: defaultdict(list))\n",
    "\n",
    "    for run in runs:\n",
    "        #append last validation iou to each param value for this run\n",
    "        params = run[\"params\"]\n",
    "        for param, val in params.items():\n",
    "            ious_by_param_value[param][val].append(run[\"last_val_iou\"])\n",
    "\n",
    "    # pprint.pprint(ious_by_param_value)\n",
    "\n",
    "    #calculate average (or whatever reducer is passed)\n",
    "    ious_by_param_value = {\n",
    "        param: {\n",
    "            val: reducer(ious) for val, ious in val_ious.items()\n",
    "        } for param, val_ious in ious_by_param_value.items()\n",
    "    }\n",
    "    \n",
    "    return ious_by_param_value"
   ]
  },
  {
   "cell_type": "code",
   "execution_count": 178,
   "metadata": {},
   "outputs": [],
   "source": [
    "#plot average ious by parameter value\n",
    "def plot_param_ious(ious_by_param_value, exclude_params=[], rotate_labels=False):\n",
    "    ious_by_param_value = {k: v for k, v in ious_by_param_value.items() if k not in exclude_params}\n",
    "    plt.figure(figsize=(1.5 * len(ious_by_param_value), 3))\n",
    "\n",
    "    ax = None\n",
    "    for i, (param, val_ious) in enumerate(ious_by_param_value.items()):\n",
    "        if i == 0:\n",
    "            ax = plt.subplot(1, len(ious_by_param_value), i+1)\n",
    "        else:\n",
    "            _ax = plt.subplot(1, len(ious_by_param_value), i+1, sharey=ax)\n",
    "            plt.setp(_ax.get_yticklabels(), visible=False)\n",
    "\n",
    "        vals, ious = zip(\n",
    "            *sorted([(val, iou) for val, iou in val_ious.items()], key=lambda x: x[0])\n",
    "        )\n",
    "        #map values to strings and ensure both are lists...\n",
    "        vals = [str(val) for val in vals]\n",
    "        ious = [i for i in ious]\n",
    "\n",
    "        sns.barplot(x=vals, y=ious)\n",
    "#         plt.title(f\"Average Validation IoU for {param}\")\n",
    "        plt.xlabel(param)\n",
    "        if rotate_labels:\n",
    "            plt.xticks(rotation=90)\n",
    "        if i == 0:\n",
    "            plt.ylabel(\"IoU\")\n",
    "\n",
    "    plt.tight_layout()\n",
    "    plt.show()"
   ]
  },
  {
   "cell_type": "code",
   "execution_count": 296,
   "metadata": {},
   "outputs": [],
   "source": [
    "def graph_metric(train, val, title, metric_name, xlabel=True):\n",
    "    plt.plot(train, label=f'train_{metric_name}', linestyle=\"--\")\n",
    "    plt.plot(val, label=f'val_{metric_name}')\n",
    "#     plt.title(title)\n",
    "    if xlabel:\n",
    "        plt.xlabel('Epoch')\n",
    "    plt.ylabel(metric_name)\n",
    "    plt.legend()\n",
    "\n",
    "def graph_metrics(\n",
    "    history,\n",
    "    metric_names=[\n",
    "#         \"loss\",\n",
    "#         \"accuracy\",\n",
    "        \"f1\", #f1 and iou seem very similar\n",
    "#         \"iou\"\n",
    "    ],\n",
    "    metric_titles=[\n",
    "#         \"Training and Validation Loss\",\n",
    "#         \"Training and Validation Accuracy\",\n",
    "        \"Training and Validation F1 Score\",\n",
    "#         \"Training and Validation IoU\"\n",
    "    ]\n",
    "):\n",
    "    plt.figure(figsize=(4, 3 * len(metric_names)))\n",
    "    \n",
    "    ax = None\n",
    "    for i, (metric, title) in enumerate(zip(metric_names, metric_titles)):\n",
    "        if i == 0:\n",
    "            ax = plt.subplot(len(metric_names), 1, i+1)\n",
    "            _ax = ax\n",
    "        else:\n",
    "            _ax = plt.subplot(len(metric_names), 1, i+1, sharex=ax)\n",
    "        if i != len(metric_names) - 1:\n",
    "            plt.setp(_ax.get_xticklabels(), visible=False)\n",
    "        \n",
    "        xlabel = i == len(metric_names) - 1\n",
    "        graph_metric(history[metric], history[f\"val_{metric}\"], title, metric, xlabel=xlabel)\n",
    "\n",
    "    plt.tight_layout()\n",
    "    plt.show()"
   ]
  },
  {
   "cell_type": "code",
   "execution_count": 297,
   "metadata": {},
   "outputs": [],
   "source": [
    "custom_cnn_runs, custom_cnn_best_run = load_runs(\"./runs/custom\")"
   ]
  },
  {
   "cell_type": "code",
   "execution_count": 298,
   "metadata": {},
   "outputs": [
    {
     "name": "stdout",
     "output_type": "stream",
     "text": [
      "best custom run id: b23ed024-fcda-483b-9877-03e3baff621c\n",
      "{'augmentation': False,\n",
      " 'batch_size': 128,\n",
      " 'conv_blocks': 4,\n",
      " 'learning_rate': 0.001,\n",
      " 'regularization': False}\n",
      "iou: 0.07507561892271042\n"
     ]
    }
   ],
   "source": [
    "print(\"best custom run id:\", custom_cnn_best_run[\"id\"])\n",
    "pprint.pprint(custom_cnn_best_run[\"params\"])\n",
    "print(\"iou:\", custom_cnn_best_run[\"last_val_iou\"])"
   ]
  },
  {
   "cell_type": "code",
   "execution_count": 299,
   "metadata": {},
   "outputs": [
    {
     "name": "stdout",
     "output_type": "stream",
     "text": [
      "{'augmentation': {False: 0.0490231970557943, True: 0.04963111335580999},\n",
      " 'batch_size': {32: 0.058072278276085854,\n",
      "                64: 0.04467810760252178,\n",
      "                128: 0.04525065726528947},\n",
      " 'conv_blocks': {3: 0.047276154841081455,\n",
      "                 4: 0.04434161549434066,\n",
      "                 5: 0.0585500025190413},\n",
      " 'learning_rate': {1e-05: 0.05162286792289127,\n",
      "                   0.0001: 0.05227853655815125,\n",
      "                   0.001: 0.043576927529647945},\n",
      " 'regularization': {False: 0.05770260865489642, True: 0.04130419113789685}}\n"
     ]
    }
   ],
   "source": [
    "custom_cnn_ious_by_param_value = aggregate_iou_by_param_val(custom_cnn_runs)\n",
    "pprint.pprint(custom_cnn_ious_by_param_value)"
   ]
  },
  {
   "cell_type": "code",
   "execution_count": 300,
   "metadata": {},
   "outputs": [
    {
     "data": {
      "image/png": "[encoded data removed]",
      "text/plain": [
       "<Figure size 324x216 with 3 Axes>"
      ]
     },
     "metadata": {},
     "output_type": "display_data"
    }
   ],
   "source": [
    "plot_param_ious(custom_cnn_ious_by_param_value, exclude_params=[\"learning_rate\", \"augmentation\"])"
   ]
  },
  {
   "cell_type": "code",
   "execution_count": 301,
   "metadata": {},
   "outputs": [
    {
     "data": {
      "image/png": "[encoded data removed]",
      "text/plain": [
       "<Figure size 288x216 with 1 Axes>"
      ]
     },
     "metadata": {},
     "output_type": "display_data"
    }
   ],
   "source": [
    "# for run in runs:\n",
    "#     pprint.pprint(run[\"params\"])\n",
    "#     graph_metrics(run[\"history\"])\n",
    "graph_metrics(custom_cnn_best_run[\"history\"])"
   ]
  },
  {
   "cell_type": "markdown",
   "metadata": {},
   "source": [
    "## Resnet data"
   ]
  },
  {
   "cell_type": "code",
   "execution_count": 302,
   "metadata": {},
   "outputs": [],
   "source": [
    "resnet_runs, resnet_best_run = load_runs(\"./runs/resnet\")"
   ]
  },
  {
   "cell_type": "code",
   "execution_count": 303,
   "metadata": {},
   "outputs": [
    {
     "name": "stdout",
     "output_type": "stream",
     "text": [
      "best resnet run id: cef58318-a912-46ca-9970-4cc1da7ca1e0\n",
      "{'augmentation': False,\n",
      " 'batch_size': 512,\n",
      " 'input_dropout': 0,\n",
      " 'learning_rate': 0.001}\n",
      "iou: 0.10596543550491333\n"
     ]
    }
   ],
   "source": [
    "print(\"best resnet run id:\", resnet_best_run[\"id\"])\n",
    "pprint.pprint(resnet_best_run[\"params\"])\n",
    "print(\"iou:\", resnet_best_run[\"last_val_iou\"])"
   ]
  },
  {
   "cell_type": "code",
   "execution_count": 304,
   "metadata": {},
   "outputs": [
    {
     "name": "stdout",
     "output_type": "stream",
     "text": [
      "{'augmentation': {False: 0.07972797405506883, True: 0.07899992563761771},\n",
      " 'batch_size': {32: 0.08425163394874996,\n",
      "                128: 0.07718705213986911,\n",
      "                512: 0.07731175795197487},\n",
      " 'input_dropout': {0: 0.08953921327536757,\n",
      "                   0.3: 0.0812805907593833,\n",
      "                   0.7: 0.06637337841093541},\n",
      " 'learning_rate': {1e-05: 0.059547293931245804,\n",
      "                   0.0001: 0.08212061692029238,\n",
      "                   0.001: 0.08890108967369253}}\n"
     ]
    }
   ],
   "source": [
    "resnet_ious_by_param_value = aggregate_iou_by_param_val(resnet_runs)\n",
    "pprint.pprint(resnet_ious_by_param_value)"
   ]
  },
  {
   "cell_type": "code",
   "execution_count": 305,
   "metadata": {},
   "outputs": [
    {
     "data": {
      "image/png": "[encoded data removed]",
      "text/plain": [
       "<Figure size 324x216 with 3 Axes>"
      ]
     },
     "metadata": {},
     "output_type": "display_data"
    }
   ],
   "source": [
    "plot_param_ious(resnet_ious_by_param_value, exclude_params=[\"augmentation\"], rotate_labels=True)"
   ]
  },
  {
   "cell_type": "code",
   "execution_count": 306,
   "metadata": {},
   "outputs": [
    {
     "data": {
      "image/png": "[encoded data removed]",
      "text/plain": [
       "<Figure size 288x216 with 1 Axes>"
      ]
     },
     "metadata": {},
     "output_type": "display_data"
    }
   ],
   "source": [
    "# for run in runs:\n",
    "#     pprint.pprint(run[\"params\"])\n",
    "#     graph_metrics(run[\"history\"])\n",
    "graph_metrics(resnet_best_run[\"history\"])"
   ]
  },
  {
   "cell_type": "code",
   "execution_count": null,
   "metadata": {},
   "outputs": [],
   "source": []
  },
  {
   "cell_type": "code",
   "execution_count": null,
   "metadata": {},
   "outputs": [],
   "source": []
  },
  {
   "cell_type": "code",
   "execution_count": null,
   "metadata": {},
   "outputs": [],
   "source": []
  },
  {
   "cell_type": "code",
   "execution_count": null,
   "metadata": {},
   "outputs": [],
   "source": []
  }
 ],
 "metadata": {
  "kernelspec": {
   "display_name": "Python 3",
   "language": "python",
   "name": "python3"
  },
  "language_info": {
   "codemirror_mode": {
    "name": "ipython",
    "version": 3
   },
   "file_extension": ".py",
   "mimetype": "text/x-python",
   "name": "python",
   "nbconvert_exporter": "python",
   "pygments_lexer": "ipython3",
   "version": "3.8.5"
  }
 },
 "nbformat": 4,
 "nbformat_minor": 5
}
